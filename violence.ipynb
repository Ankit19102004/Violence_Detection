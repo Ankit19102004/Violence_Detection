{
 "cells": [
  {
   "cell_type": "code",
   "execution_count": 1,
   "id": "bb6ffa65-f64e-4989-bcf6-8d50f7c42e27",
   "metadata": {},
   "outputs": [],
   "source": [
    "import tensorflow as tf\n",
    "from tensorflow.keras.models import Sequential\n",
    "from tensorflow.keras.layers import Conv2D, MaxPooling2D, Flatten, Dense, Dropout\n",
    "from tensorflow.keras.preprocessing.image import ImageDataGenerator\n"
   ]
  },
  {
   "cell_type": "code",
   "execution_count": 2,
   "id": "6047ac4e-7871-4364-b275-71cd8c17b942",
   "metadata": {},
   "outputs": [
    {
     "name": "stdout",
     "output_type": "stream",
     "text": [
      "INFO:tensorflow:Mixed precision compatibility check (mixed_float16): OK\n",
      "Your GPU will likely run quickly with dtype policy mixed_float16 as it has compute capability of at least 7.0. Your GPU: NVIDIA GeForce RTX 2050, compute capability 8.6\n",
      "Mixed precision enabled.\n"
     ]
    }
   ],
   "source": [
    "\n",
    "try:\n",
    "    from tensorflow.keras import mixed_precision\n",
    "    mixed_precision.set_global_policy('mixed_float16')\n",
    "    print(\"Mixed precision enabled.\")\n",
    "except:\n",
    "    print(\"Mixed precision not available on this setup.\")"
   ]
  },
  {
   "cell_type": "code",
   "execution_count": 3,
   "id": "fec33841-9ba1-45c7-81ec-2c6f82de846b",
   "metadata": {},
   "outputs": [],
   "source": [
    "IMG_SIZE = (224, 224)  # Keep full size\n",
    "BATCH_SIZE = 8         # Much smaller batch size"
   ]
  },
  {
   "cell_type": "code",
   "execution_count": 4,
   "id": "cf33e48d-a874-4bba-a5d6-23404cef531a",
   "metadata": {},
   "outputs": [],
   "source": [
    "train_datagen = ImageDataGenerator(\n",
    "    rescale=1.0/255,\n",
    "    shear_range=0.2,\n",
    "    zoom_range=0.2,\n",
    "    horizontal_flip=True\n",
    ")"
   ]
  },
  {
   "cell_type": "code",
   "execution_count": 5,
   "id": "ea983a74-7e6c-4bad-b922-8d9e7d546f8f",
   "metadata": {},
   "outputs": [],
   "source": [
    "test_datagen = ImageDataGenerator(rescale=1.0/255)"
   ]
  },
  {
   "cell_type": "code",
   "execution_count": 6,
   "id": "a9f773e7-ab51-4b53-afb2-45452c94d698",
   "metadata": {},
   "outputs": [
    {
     "name": "stdout",
     "output_type": "stream",
     "text": [
      "Found 2635 images belonging to 4 classes.\n"
     ]
    }
   ],
   "source": [
    "train_generator = train_datagen.flow_from_directory(\n",
    "    'Road_Anomaly_Dataset/train',\n",
    "    target_size=IMG_SIZE,\n",
    "    batch_size=BATCH_SIZE,\n",
    "    class_mode='categorical'\n",
    ")"
   ]
  },
  {
   "cell_type": "code",
   "execution_count": 8,
   "id": "7507e827-5e11-4d49-ace3-7593f2763f6b",
   "metadata": {},
   "outputs": [
    {
     "name": "stdout",
     "output_type": "stream",
     "text": [
      "Found 139 images belonging to 4 classes.\n"
     ]
    }
   ],
   "source": [
    "test_generator = test_datagen.flow_from_directory(\n",
    "    'Road_Anomaly_Dataset/test',\n",
    "    target_size=IMG_SIZE,\n",
    "    batch_size=BATCH_SIZE,\n",
    "    class_mode='categorical'\n",
    ")"
   ]
  },
  {
   "cell_type": "code",
   "execution_count": 9,
   "id": "d5b69085-a634-4953-bb96-f19143a9a968",
   "metadata": {},
   "outputs": [],
   "source": [
    "model = Sequential([\n",
    "    Conv2D(32, (3,3), activation='relu', input_shape=(IMG_SIZE[0], IMG_SIZE[1], 3)),\n",
    "    MaxPooling2D(pool_size=(2,2)),\n",
    "\n",
    "    Conv2D(64, (3,3), activation='relu'),\n",
    "    MaxPooling2D(pool_size=(2,2)),\n",
    "\n",
    "    Conv2D(128, (3,3), activation='relu'),\n",
    "    MaxPooling2D(pool_size=(2,2)),\n",
    "\n",
    "    Flatten(),\n",
    "    Dense(128, activation='relu'),\n",
    "    Dropout(0.5),\n",
    "    Dense(train_generator.num_classes, activation='softmax')\n",
    "])"
   ]
  },
  {
   "cell_type": "code",
   "execution_count": 10,
   "id": "dac2e2ac-0204-4360-9fb8-de7f20546bac",
   "metadata": {},
   "outputs": [],
   "source": [
    "model.compile(optimizer='adam',\n",
    "              loss='categorical_crossentropy',\n",
    "              metrics=['accuracy'])"
   ]
  },
  {
   "cell_type": "code",
   "execution_count": 11,
   "id": "17ed0472-804c-450b-ad1a-dc541756ab3b",
   "metadata": {},
   "outputs": [
    {
     "name": "stdout",
     "output_type": "stream",
     "text": [
      "Epoch 1/20\n",
      "329/329 [==============================] - 128s 257ms/step - loss: 0.4457 - accuracy: 0.8386 - val_loss: 0.0024 - val_accuracy: 1.0000\n",
      "Epoch 2/20\n",
      "329/329 [==============================] - 29s 89ms/step - loss: 0.0662 - accuracy: 0.9775 - val_loss: 0.2005 - val_accuracy: 0.9412\n",
      "Epoch 3/20\n",
      "329/329 [==============================] - 26s 78ms/step - loss: 0.1030 - accuracy: 0.9699 - val_loss: 2.6748e-05 - val_accuracy: 1.0000\n",
      "Epoch 4/20\n",
      "329/329 [==============================] - 26s 79ms/step - loss: 0.0317 - accuracy: 0.9916 - val_loss: 9.4175e-06 - val_accuracy: 1.0000\n",
      "Epoch 5/20\n",
      "329/329 [==============================] - 25s 75ms/step - loss: 0.0229 - accuracy: 0.9909 - val_loss: 0.0107 - val_accuracy: 1.0000\n",
      "Epoch 6/20\n",
      "329/329 [==============================] - 26s 80ms/step - loss: 0.0459 - accuracy: 0.9878 - val_loss: 1.1661e-04 - val_accuracy: 1.0000\n",
      "Epoch 7/20\n",
      "329/329 [==============================] - 25s 77ms/step - loss: 0.0238 - accuracy: 0.9931 - val_loss: 1.3431e-04 - val_accuracy: 1.0000\n",
      "Epoch 8/20\n",
      "329/329 [==============================] - 25s 75ms/step - loss: 0.0720 - accuracy: 0.9783 - val_loss: 3.2772e-05 - val_accuracy: 1.0000\n",
      "Epoch 9/20\n",
      "329/329 [==============================] - 25s 76ms/step - loss: 0.0369 - accuracy: 0.9901 - val_loss: 1.6058e-06 - val_accuracy: 1.0000\n",
      "Epoch 10/20\n",
      "329/329 [==============================] - 26s 78ms/step - loss: 0.0290 - accuracy: 0.9931 - val_loss: 1.2903e-06 - val_accuracy: 1.0000\n",
      "Epoch 11/20\n",
      "329/329 [==============================] - 26s 79ms/step - loss: 0.0084 - accuracy: 0.9958 - val_loss: 0.0000e+00 - val_accuracy: 1.0000\n",
      "Epoch 12/20\n",
      "329/329 [==============================] - 26s 79ms/step - loss: 0.0879 - accuracy: 0.9852 - val_loss: 1.4375e-07 - val_accuracy: 1.0000\n",
      "Epoch 13/20\n",
      "329/329 [==============================] - 26s 78ms/step - loss: 0.0508 - accuracy: 0.9897 - val_loss: 0.0011 - val_accuracy: 1.0000\n",
      "Epoch 14/20\n",
      "329/329 [==============================] - 26s 78ms/step - loss: 0.0289 - accuracy: 0.9916 - val_loss: 1.9127e-04 - val_accuracy: 1.0000\n",
      "Epoch 15/20\n",
      "329/329 [==============================] - 28s 86ms/step - loss: 0.0052 - accuracy: 0.9985 - val_loss: 7.0439e-06 - val_accuracy: 1.0000\n",
      "Epoch 16/20\n",
      "329/329 [==============================] - 28s 85ms/step - loss: 0.0029 - accuracy: 0.9989 - val_loss: 3.5062e-08 - val_accuracy: 1.0000\n",
      "Epoch 17/20\n",
      "329/329 [==============================] - 27s 83ms/step - loss: 0.0486 - accuracy: 0.9886 - val_loss: 5.6098e-08 - val_accuracy: 1.0000\n",
      "Epoch 18/20\n",
      "329/329 [==============================] - 27s 83ms/step - loss: 0.0209 - accuracy: 0.9962 - val_loss: 3.8693e-04 - val_accuracy: 1.0000\n",
      "Epoch 19/20\n",
      "329/329 [==============================] - 26s 80ms/step - loss: 0.0711 - accuracy: 0.9867 - val_loss: 1.9322e-05 - val_accuracy: 1.0000\n",
      "Epoch 20/20\n",
      "329/329 [==============================] - 26s 78ms/step - loss: 0.0099 - accuracy: 0.9973 - val_loss: 3.9620e-07 - val_accuracy: 1.0000\n"
     ]
    }
   ],
   "source": [
    "history = model.fit(\n",
    "    train_generator,\n",
    "    steps_per_epoch=train_generator.samples // BATCH_SIZE,\n",
    "    epochs=20,\n",
    "    validation_data=test_generator,\n",
    "    validation_steps=test_generator.samples // BATCH_SIZE\n",
    ")"
   ]
  },
  {
   "cell_type": "code",
   "execution_count": 12,
   "id": "64baa990-70d8-4c78-ad9f-fe441b21ad3f",
   "metadata": {},
   "outputs": [],
   "source": [
    "model.save(\"cnn_model_224.h5\")"
   ]
  },
  {
   "cell_type": "code",
   "execution_count": 13,
   "id": "1c036cea-fe7e-4311-99b1-8384611a4954",
   "metadata": {},
   "outputs": [],
   "source": [
    "model_json = model.to_json()\n",
    "with open(\"cnn_model_224.json\",'w') as json_file:\n",
    "    json_file.write(model_json)"
   ]
  },
  {
   "cell_type": "code",
   "execution_count": 14,
   "id": "5a1f65fd-2ce0-488e-8b8b-630a53de271f",
   "metadata": {},
   "outputs": [],
   "source": [
    "from keras.models import model_from_json"
   ]
  },
  {
   "cell_type": "code",
   "execution_count": 15,
   "id": "562afc5f-74b0-4098-8688-591351135122",
   "metadata": {},
   "outputs": [],
   "source": [
    "json_file = open(\"cnn_model_224.json\", \"r\")\n",
    "model_json = json_file.read()\n",
    "json_file.close()\n",
    "model = model_from_json(model_json)\n",
    "model.load_weights(\"cnn_model_224.h5\")"
   ]
  },
  {
   "cell_type": "code",
   "execution_count": 16,
   "id": "90e42468-af9e-48bc-9dc5-824291cac855",
   "metadata": {},
   "outputs": [],
   "source": [
    "label = ['Accident','Fight','Fire','Snatching']"
   ]
  },
  {
   "cell_type": "code",
   "execution_count": 17,
   "id": "590c341b-1cd3-426c-8ad7-a516bf156c0f",
   "metadata": {},
   "outputs": [],
   "source": [
    "def ef(image):\n",
    "    img = load_img(image,grayscale =  True )\n",
    "    feature = np.array(img)\n",
    "    feature = feature.reshape(1,48,48,1)\n",
    "    return feature/255.0"
   ]
  },
  {
   "cell_type": "code",
   "execution_count": null,
   "id": "cd1f3be7-0350-4a5e-8a76-9cfb86649229",
   "metadata": {},
   "outputs": [],
   "source": []
  }
 ],
 "metadata": {
  "kernelspec": {
   "display_name": "Python 3 (ipykernel)",
   "language": "python",
   "name": "python3"
  },
  "language_info": {
   "codemirror_mode": {
    "name": "ipython",
    "version": 3
   },
   "file_extension": ".py",
   "mimetype": "text/x-python",
   "name": "python",
   "nbconvert_exporter": "python",
   "pygments_lexer": "ipython3",
   "version": "3.9.13"
  }
 },
 "nbformat": 4,
 "nbformat_minor": 5
}
